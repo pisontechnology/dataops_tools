{
 "cells": [
  {
   "cell_type": "code",
   "execution_count": null,
   "id": "71b18fc5-592a-4edf-8814-b60439991e47",
   "metadata": {},
   "outputs": [],
   "source": [
    "import pandas as pd\n",
    "import json\n",
    "import random\n",
    "\n",
    "def generate_protocols(input_csv, protocol_group, random_class_order, disconnect_device_on_finish):\n",
    "    df = pd.read_csv(input_csv).fillna(\"\")\n",
    "    current_json_data = None\n",
    "    current_protocol_name = \"\"\n",
    "\n",
    "    for index, row in df.iterrows():\n",
    "        class_name = row['class_name']\n",
    "        if class_name.lower() == 'protocol':\n",
    "            # If there is an existing protocol, save it before starting a new one\n",
    "            if current_json_data is not None:\n",
    "                filename = f\"{current_protocol_name}.json\"\n",
    "                with open(filename, 'w') as json_file:\n",
    "                    json.dump(current_json_data, json_file, indent=2)\n",
    "                print(f\"Generated protocol file: {filename}\")\n",
    "\n",
    "            # Start a new protocol\n",
    "            current_protocol_name = row['activeClass_name']\n",
    "            current_json_data = {\n",
    "                \"name\": current_protocol_name,\n",
    "                \"parameters\": [],\n",
    "                \"active\": True,\n",
    "                \"classes\": [],\n",
    "                \"randomClassOrder\": random_class_order,\n",
    "                \"preamble\": row['preamble'],\n",
    "                \"epilogue\": row['epilogue'],\n",
    "                \"group\": protocol_group,\n",
    "                \"disconnectDeviceOnFinish\": disconnect_device_on_finish\n",
    "            }\n",
    "        else:\n",
    "            # Process non-protocol rows\n",
    "            if current_json_data is not None:\n",
    "                class_structure = {\n",
    "                    \"class\": class_name,\n",
    "                    \"intervals\": [],  # Populate based on CSV row details\n",
    "                    \"preamble\": row['preamble'],\n",
    "                    \"epilogue\": row['epilogue'],\n",
    "                    \"inactive_duration\": row['inactive_duration'],\n",
    "                    \"active_duration\": row['active_duration'],\n",
    "                    \"repetitions\": row['repetitions']\n",
    "                }\n",
    "                # Add additional details to class_structure as per CSV row\n",
    "                current_json_data[\"classes\"].append(class_structure)\n",
    "\n",
    "    # Save the last protocol if it exists\n",
    "    if current_json_data is not None:\n",
    "        filename = f\"{current_protocol_name}.json\"\n",
    "        with open(filename, 'w') as json_file:\n",
    "            json.dump(current_json_data, json_file, indent=2)\n",
    "        print(f\"Generated protocol file: {filename}\")\n",
    "\n"
   ]
  },
  {
   "cell_type": "code",
   "execution_count": null,
   "id": "81fbc5b3",
   "metadata": {},
   "outputs": [],
   "source": [
    "#generate gesture protocol example\n",
    "randomClassOrder = False\n",
    "disconnectDeviceOnFinish = False\n",
    "example_csv = 'activity_example.csv'\n",
    "generate_protocols(input_csv=example_csv, \n",
    "                  protocol_group=\"test\",\n",
    "                  random_class_order = False, \n",
    "                  disconnect_device_on_finish = True\n",
    "                  )"
   ]
  },
  {
   "cell_type": "code",
   "execution_count": null,
   "id": "80530871",
   "metadata": {},
   "outputs": [],
   "source": []
  }
 ],
 "metadata": {
  "kernelspec": {
   "display_name": "Python 3",
   "language": "python",
   "name": "python3"
  },
  "language_info": {
   "codemirror_mode": {
    "name": "ipython",
    "version": 3
   },
   "file_extension": ".py",
   "mimetype": "text/x-python",
   "name": "python",
   "nbconvert_exporter": "python",
   "pygments_lexer": "ipython3",
   "version": "3.10.11"
  }
 },
 "nbformat": 4,
 "nbformat_minor": 5
}
