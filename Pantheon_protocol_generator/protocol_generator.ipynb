{
 "cells": [
  {
   "cell_type": "code",
   "execution_count": 8,
   "id": "71b18fc5-592a-4edf-8814-b60439991e47",
   "metadata": {},
   "outputs": [],
   "source": [
    "def generate_protocol(input_csv, protocol_name, protocol_type, protocol_group):\n",
    "    # Read CSV into a DataFrame\n",
    "    df = pd.read_csv(input_csv)\n",
    "\n",
    "    # Initialize common JSON structure with added protocol_group parameter\n",
    "    json_data = {\n",
    "        \"name\": protocol_name,\n",
    "        \"parameters\": [],\n",
    "        \"active\": True,\n",
    "        \"classes\": [],\n",
    "        \"randomClassOrder\": False,  # Assuming default value as False\n",
    "        \"preamble\": \"\",\n",
    "        \"epilogue\": \"\",\n",
    "        \"group\": protocol_group,  # Set the group from the function parameter\n",
    "        \"disconnectDeviceOnFinish\": False  # Assuming default value as False\n",
    "    }\n",
    "\n",
    "    # Iterate through rows in the CSV\n",
    "    for index, row in df.iterrows():\n",
    "        # Extract relevant information from the CSV row\n",
    "        class_name = row['class_name']\n",
    "        preamble = row['preamble']\n",
    "        epilogue = row['epilogue']\n",
    "\n",
    "        # Check if class_name is 'protocol', then update preamble and epilogue in json_data\n",
    "        if class_name.lower() == 'protocol':\n",
    "            json_data['preamble'] = preamble\n",
    "            json_data['epilogue'] = epilogue\n",
    "            continue  # Skip further processing for this row\n",
    "\n",
    "        if protocol_type == 0:\n",
    "            # Processing for gestures protocol\n",
    "            inactive_duration = row['inactive_duration']\n",
    "            active_duration = row['active_duration']\n",
    "            activeClass = row['activeClass_name']\n",
    "            repetitions = int(row['repetitions'])\n",
    "\n",
    "            class_structure = {\n",
    "                \"class\": class_name,\n",
    "                \"intervals\": [\n",
    "                    {\"label\": \"inactive\", \"durationInMillis\": inactive_duration},\n",
    "                    {\"label\": activeClass, \"durationInMillis\": active_duration},\n",
    "                    {\"label\": \"inactive\", \"durationInMillis\": inactive_duration}\n",
    "                ],\n",
    "                \"repetitions\": repetitions,\n",
    "                \"preamble\": preamble,\n",
    "                \"epilogue\": epilogue\n",
    "            }\n",
    "        elif protocol_type == 1:\n",
    "            # Processing for reaction time test protocol\n",
    "            # ... (existing code for RT protocol)\n",
    "            pass\n",
    "\n",
    "        # Append the class structure to the classes list\n",
    "        json_data[\"classes\"].append(class_structure)\n",
    "\n",
    "    # Write the JSON data to a file\n",
    "    filename = protocol_name + '.json'\n",
    "    with open(filename, 'w') as json_file:\n",
    "        json.dump(json_data, json_file, indent=2)\n",
    "    print ('Please set protocol parameters, preamble, epilogue, and groups before uploading your protocol')\n",
    "\n",
    "# The function now includes an additional parameter 'protocol_group' to set the protocol group.\n",
    "\n"
   ]
  },
  {
   "cell_type": "code",
   "execution_count": 9,
   "metadata": {},
   "outputs": [
    {
     "name": "stdout",
     "output_type": "stream",
     "text": [
      "Please set protocol parameters, preamble, epilogue, and groups before uploading your protocol\n"
     ]
    }
   ],
   "source": [
    "#generate gesture protocol example\n",
    "randomClassOrder = False\n",
    "disconnectDeviceOnFinish = False\n",
    "example_csv = 'protocol_example.csv'\n",
    "generate_protocol(example_csv, \"example_protocol\", 0)"
   ]
  },
  {
   "cell_type": "code",
   "execution_count": 3,
   "metadata": {},
   "outputs": [],
   "source": [
    "#generate Reaction Time protocol example\n",
    "randomClassOrder = False\n",
    "disconnectDeviceOnFinish = False\n",
    "example_csv = 'rt_protocol_example.csv' \n",
    "generate_protocol(example_csv, \"example_RT_protocol\", 1)"
   ]
  },
  {
   "cell_type": "code",
   "execution_count": 10,
   "metadata": {},
   "outputs": [
    {
     "ename": "ValueError",
     "evalue": "invalid literal for int() with base 10: ''",
     "output_type": "error",
     "traceback": [
      "\u001b[1;31m---------------------------------------------------------------------------\u001b[0m",
      "\u001b[1;31mValueError\u001b[0m                                Traceback (most recent call last)",
      "Cell \u001b[1;32mIn[10], line 3\u001b[0m\n\u001b[0;32m      1\u001b[0m randomClassOrder \u001b[38;5;241m=\u001b[39m \u001b[38;5;28;01mFalse\u001b[39;00m \u001b[38;5;66;03m#Set to True if you want your classes to be random\u001b[39;00m\n\u001b[0;32m      2\u001b[0m disconnectDeviceOnFinish \u001b[38;5;241m=\u001b[39m \u001b[38;5;28;01mFalse\u001b[39;00m \u001b[38;5;66;03m#Set to True if you want the device to disconnect after the protocol is finished\u001b[39;00m\n\u001b[1;32m----> 3\u001b[0m protocol_type \u001b[38;5;241m=\u001b[39m \u001b[38;5;28;43mint\u001b[39;49m\u001b[43m(\u001b[49m\u001b[38;5;28;43minput\u001b[39;49m\u001b[43m(\u001b[49m\u001b[38;5;124;43m'\u001b[39;49m\u001b[38;5;124;43mprotocol type: 0 = for gestures 1 = for reaction time test   \u001b[39;49m\u001b[38;5;124;43m'\u001b[39;49m\u001b[43m)\u001b[49m\u001b[43m)\u001b[49m\n\u001b[0;32m      4\u001b[0m dir_to_csv \u001b[38;5;241m=\u001b[39m \u001b[38;5;28minput\u001b[39m(\u001b[38;5;124m'\u001b[39m\u001b[38;5;124mdir to protocol csv   \u001b[39m\u001b[38;5;124m'\u001b[39m)\n\u001b[0;32m      5\u001b[0m generate_protocol(dir_to_csv, \u001b[38;5;124m\"\u001b[39m\u001b[38;5;124myour_protocol_name\u001b[39m\u001b[38;5;124m\"\u001b[39m, protocol_type)\n",
      "\u001b[1;31mValueError\u001b[0m: invalid literal for int() with base 10: ''"
     ]
    }
   ],
   "source": [
    "randomClassOrder = False #Set to True if you want your classes to be random\n",
    "disconnectDeviceOnFinish = False #Set to True if you want the device to disconnect after the protocol is finished\n",
    "protocol_type = int(input('protocol type: 0 = for gestures 1 = for reaction time test   '))\n",
    "dir_to_csv = input('dir to protocol csv   ')\n",
    "generate_protocol(dir_to_csv, \"your_protocol_name\", protocol_type)"
   ]
  }
 ],
 "metadata": {
  "kernelspec": {
   "display_name": "Python 3",
   "language": "python",
   "name": "python3"
  },
  "language_info": {
   "codemirror_mode": {
    "name": "ipython",
    "version": 3
   },
   "file_extension": ".py",
   "mimetype": "text/x-python",
   "name": "python",
   "nbconvert_exporter": "python",
   "pygments_lexer": "ipython3",
   "version": "3.10.11"
  }
 },
 "nbformat": 4,
 "nbformat_minor": 5
}
