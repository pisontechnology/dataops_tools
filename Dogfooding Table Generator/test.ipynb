{
 "cells": [
  {
   "cell_type": "code",
   "execution_count": null,
   "id": "69cdc0a9-9dc3-4142-9782-c8293043cff2",
   "metadata": {},
   "outputs": [],
   "source": [
    "%load_ext autoreload\n",
    "%autoreload 2"
   ]
  },
  {
   "cell_type": "code",
   "execution_count": 1,
   "id": "3894ba44-23ff-49f5-b8bd-08188189e3ce",
   "metadata": {},
   "outputs": [],
   "source": [
    "\n",
    "env = Env.STAGING"
   ]
  },
  {
   "cell_type": "markdown",
   "id": "bf78578d-c4d6-4d04-9832-a4fa19e9ceb6",
   "metadata": {},
   "source": [
    "### Agility Parity LONG CODE"
   ]
  },
  {
   "cell_type": "code",
   "execution_count": 5,
   "id": "3c4d0181-41e2-47d9-97fd-460756d21b3a",
   "metadata": {},
   "outputs": [],
   "source": [
    "agility_config = {'detection_window': (0.07, 0.750), 'countdown': 5, 'proportion_correct_balanced': True}\n",
    "readiness_config = {'detection_window': (0.1, 1.0), 'countdown': 5, 'retained_reaction_time_count': (1,5), 'minimum_reaction_time_count': 2}\n",
    "focus_config= {'detection_window': (0.08, 1.0), 'countdown': 5, 'retained_reaction_time_count': (0,90), 'minimum_reaction_time_count': 2, 'lapse_multiplier':1}"
   ]
  },
  {
   "cell_type": "code",
   "execution_count": 35,
   "id": "545459c7-82cb-4b02-bfd0-e41a1e09cdfb",
   "metadata": {},
   "outputs": [],
   "source": [
    "\n",
    "\n",
    "start_date = dt.datetime(2024, 1, 1, 0, 0, 0)\n",
    "end_date = dt.datetime(2024, 12, 30, 0, 0, 0)"
   ]
  },
  {
   "cell_type": "code",
   "execution_count": 36,
   "id": "237ed12c-d0fd-4dff-afcf-70624e5a82f6",
   "metadata": {},
   "outputs": [],
   "source": []
  },
  {
   "cell_type": "markdown",
   "id": "d7ccadca-2bcc-4f1d-a379-dd1351fad593",
   "metadata": {},
   "source": [
    "### Creating the Final Dataframe to BigQuery"
   ]
  },
  {
   "cell_type": "code",
   "execution_count": 58,
   "id": "bcd69b42-5521-4bf0-8533-c4ca4913f044",
   "metadata": {},
   "outputs": [
    {
     "name": "stdout",
     "output_type": "stream",
     "text": [
      "Warning: Onset DataFrame is empty for id=3b563c93-95b8-5df8-9a49-12d72dcd0dad. No data to process.\n",
      "Warning: Onset DataFrame is empty for id=652f9560-174a-5ecf-9748-69fa8fbfeabe. No data to process.\n",
      "Warning: Onset DataFrame is empty for id=68bf5667-1bb7-42c2-8969-c0733015db27. No data to process.\n",
      "Warning: Onset DataFrame is empty for id=a160cbbb-3c59-4f41-92c0-8b23e5b49bd3. No data to process.\n",
      "Warning: Onset DataFrame is empty for id=74a8e59a-4192-4b45-8fb5-042288d33452. No data to process.\n",
      "Warning: Onset DataFrame is empty for id=2bad2969-6364-4d04-a354-85c1a583219d. No data to process.\n",
      "Warning: Onset DataFrame is empty for id=a507a99f-6cf8-4fec-a15e-4fbfcdc62018. No data to process.\n",
      "Warning: Onset DataFrame is empty for id=84b14857-0de5-55dd-b474-31c0b57adaca. No data to process.\n",
      "Warning: Onset DataFrame is empty for id=a59861ec-44b7-59b7-9977-76a4a6f49ae5. No data to process.\n",
      "Warning: Onset DataFrame is empty for id=0567cb38-255f-597f-838b-c44aa9787f72. No data to process.\n",
      "Warning: Onset DataFrame is empty for id=decaa89e-7d81-5103-b7bf-54deb96fa56f. No data to process.\n",
      "Warning: Onset DataFrame is empty for id=7d0b440d-4902-5579-924f-7d4900d8389c. No data to process.\n",
      "Warning: Onset DataFrame is empty for id=011fdb71-cbfc-5c46-8dde-6b0e076bd221. No data to process.\n",
      "Warning: Onset DataFrame is empty for id=a30f3f1a-768d-53bc-9154-62c0164d3223. No data to process.\n",
      "Warning: Onset DataFrame is empty for id=363b5502-ab09-58eb-a782-2b0e2f9c20e1. No data to process.\n",
      "Warning: Onset DataFrame is empty for id=eb84a111-1d9d-5a24-bc3c-7a65c684240c. No data to process.\n",
      "Warning: Onset DataFrame is empty for id=7930fd57-dede-5882-9b87-c5fd59e9a893. No data to process.\n",
      "Warning: Onset DataFrame is empty for id=9dfa7743-54f2-512c-a890-c853488aa7ea. No data to process.\n",
      "Warning: Onset DataFrame is empty for id=8923d242-f439-5341-b075-6acd6db8b562. No data to process.\n",
      "Warning: Onset DataFrame is empty for id=08a7df3b-abc9-5f9e-9569-aff7268a4dbd. No data to process.\n",
      "Warning: Onset DataFrame is empty for id=22e66bf1-5ad4-5022-9b78-1355a4f60071. No data to process.\n",
      "Warning: Onset DataFrame is empty for id=bbfb4c9d-fa69-5390-8577-35fe3a98d930. No data to process.\n",
      "Warning: Onset DataFrame is empty for id=1e751ceb-6880-5c38-8d68-97bc0fa444e2. No data to process.\n",
      "Warning: Onset DataFrame is empty for id=4eb8bdf8-f3a1-4eb1-a9f8-82388fb91524. No data to process.\n",
      "Warning: Onset DataFrame is empty for id=d5295e7a-65fb-4419-bd4d-369039af6664. No data to process.\n",
      "Warning: Onset DataFrame is empty for id=1e640849-a671-4e09-84e9-3cf82bc16205. No data to process.\n",
      "Warning: Onset DataFrame is empty for id=0cbf27f3-e206-4d15-be27-c669c3d4718d. No data to process.\n",
      "Warning: Onset DataFrame is empty for id=64b255a8-f2c2-48f7-984e-13b6b3d81d03. No data to process.\n",
      "Warning: Onset DataFrame is empty for id=f4e3b65b-e7b6-5354-a797-ad2baa17315d. No data to process.\n",
      "Warning: Onset DataFrame is empty for id=4d95b797-0dbe-54db-b169-4e89f7fe5305. No data to process.\n",
      "Warning: Onset DataFrame is empty for id=4990a2be-ba5e-4fb8-afbb-6f0aac0d1c9d. No data to process.\n",
      "Warning: Onset DataFrame is empty for id=fa8a6151-4ffa-4ec0-b608-0b03008e91cf. No data to process.\n",
      "Warning: Onset DataFrame is empty for id=5bb21336-984c-4181-a1bd-52213c307a07. No data to process.\n",
      "Warning: Onset DataFrame is empty for id=1080e958-97ed-44cf-943d-06d69b5d293d. No data to process.\n",
      "Warning: Onset DataFrame is empty for id=eb25cf35-ae55-4d87-ad0a-e49747a2090e. No data to process.\n",
      "Warning: Onset DataFrame is empty for id=a7614a9f-420e-47f8-98bd-2738aafed911. No data to process.\n",
      "Warning: Onset DataFrame is empty for id=a4a61034-1754-4f76-a6dd-dfaea47430d6. No data to process.\n",
      "Warning: Onset DataFrame is empty for id=a975d111-2fca-49d0-8354-ef0cd4a794ab. No data to process.\n",
      "Warning: Onset DataFrame is empty for id=f5823188-72b0-4369-8251-dbec087873ee. No data to process.\n",
      "Warning: Onset DataFrame is empty for id=3d9fa666-1229-4bb8-ab6a-f52c8fc3e8d7. No data to process.\n",
      "Warning: Onset DataFrame is empty for id=778455a8-8aa8-4ac0-8439-ad4796ca999b. No data to process.\n",
      "Warning: Onset DataFrame is empty for id=90c19d17-ed59-40e5-b859-e1804916070b. No data to process.\n",
      "Warning: Onset DataFrame is empty for id=93c5bee8-8c71-4ed6-9b89-f78b3d5b225d. No data to process.\n",
      "Warning: Onset DataFrame is empty for id=eb8e185f-abea-4279-85ab-19a27b69e1ab. No data to process.\n",
      "Warning: Onset DataFrame is empty for id=fe2b5151-e306-410c-bb94-d35aef23d126. No data to process.\n",
      "Warning: Onset DataFrame is empty for id=433b54b6-c4dc-4db6-b37f-7c9ddebf3057. No data to process.\n",
      "Warning: Onset DataFrame is empty for id=03da3f6a-4c5f-4408-bcc1-c7b5ca365f25. No data to process.\n",
      "Warning: Onset DataFrame is empty for id=8246ba9b-8e42-4a0d-b222-9760ed451f13. No data to process.\n",
      "Warning: Onset DataFrame is empty for id=179ab543-fb8d-45b2-9f02-19531d529222. No data to process.\n",
      "Warning: Onset DataFrame is empty for id=cbd8728f-73ac-4e3e-b86f-c4a511d22672. No data to process.\n"
     ]
    },
    {
     "name": "stderr",
     "output_type": "stream",
     "text": [
      "WARNING: This command is using service account impersonation. All API calls will be executed as [dashboard-service-account@pison-staging.iam.gserviceaccount.com].\n"
     ]
    },
    {
     "name": "stdout",
     "output_type": "stream",
     "text": [
      "Checking parity...\n"
     ]
    },
    {
     "name": "stderr",
     "output_type": "stream",
     "text": [
      "WARNING: This command is using service account impersonation. All API calls will be executed as [dashboard-service-account@pison-staging.iam.gserviceaccount.com].\n"
     ]
    },
    {
     "name": "stdout",
     "output_type": "stream",
     "text": [
      "Checking parity...\n",
      "                                         id reaction_test_type  \\\n",
      "0      2f42cdfc-0814-5d4e-8cc4-38959e15313e              READY   \n",
      "1      816b9a72-74a8-551a-a6e2-c50052c7556d              READY   \n",
      "2      54f88a07-3a67-5836-a328-0d773b2f5690              READY   \n",
      "3      686f0cfe-5a8c-55d4-8ff6-30b9e7573cd8              READY   \n",
      "4      5c2e67be-67ed-55b1-a36d-dc714604c93a            AGILITY   \n",
      "...                                     ...                ...   \n",
      "11692  5ea24acc-42a8-447d-b07f-fa098b3e245e              READY   \n",
      "11693  d6acd8c8-bf06-4e27-97e9-fce04a929ee8              READY   \n",
      "11694  4070ffe4-6795-4ab6-83f2-7069c059e950              READY   \n",
      "11695  1179c993-410d-4b82-b9d0-c58c3ce71c8e              READY   \n",
      "11696  2401c81d-163c-40b6-acd0-de4861ed66e2              READY   \n",
      "\n",
      "                            user_id                       created_at  \\\n",
      "0      pvSUbI3qLsXDg3a7hfrHP9F3kk22 2024-08-20 15:15:56.730000+00:00   \n",
      "1      pvSUbI3qLsXDg3a7hfrHP9F3kk22 2024-08-13 16:46:44.289000+00:00   \n",
      "2      pvSUbI3qLsXDg3a7hfrHP9F3kk22 2024-08-12 20:47:24.620000+00:00   \n",
      "3      pvSUbI3qLsXDg3a7hfrHP9F3kk22 2024-08-05 17:15:43.059000+00:00   \n",
      "4      pvSUbI3qLsXDg3a7hfrHP9F3kk22 2024-08-05 13:26:06.717000+00:00   \n",
      "...                             ...                              ...   \n",
      "11692  PWnhsmu59FfpQZbxBSgswGyiVcE2        2024-01-30 19:34:34+00:00   \n",
      "11693  PWnhsmu59FfpQZbxBSgswGyiVcE2        2024-01-30 19:33:59+00:00   \n",
      "11694  PWnhsmu59FfpQZbxBSgswGyiVcE2        2024-01-30 19:33:17+00:00   \n",
      "11695  kXO4J8vrXiNupi0hEyP8hiVRoyk1        2024-01-25 22:24:11+00:00   \n",
      "11696  kXO4J8vrXiNupi0hEyP8hiVRoyk1        2024-01-25 22:23:54+00:00   \n",
      "\n",
      "            score                           baseline_id  \\\n",
      "0      136.723540  aa7ef22f-1418-40d3-b29f-1842eade6237   \n",
      "1      141.801790  aa7ef22f-1418-40d3-b29f-1842eade6237   \n",
      "2      137.765700  aa7ef22f-1418-40d3-b29f-1842eade6237   \n",
      "3      125.003720  aa7ef22f-1418-40d3-b29f-1842eade6237   \n",
      "4       42.000000                                   NaN   \n",
      "...           ...                                   ...   \n",
      "11692  190.491560  4070ffe4-6795-4ab6-83f2-7069c059e950   \n",
      "11693  191.133000  4070ffe4-6795-4ab6-83f2-7069c059e950   \n",
      "11694  166.636720                                   NaN   \n",
      "11695  122.864746  2401c81d-163c-40b6-acd0-de4861ed66e2   \n",
      "11696  126.274630                                   NaN   \n",
      "\n",
      "       plan_duration_in_seconds  sw_enrichment_data_number_of_trials  \\\n",
      "0                        16.769                                  6.0   \n",
      "1                        13.993                                  6.0   \n",
      "2                        14.956                                  6.0   \n",
      "3                        14.380                                  6.0   \n",
      "4                        60.467                                 30.0   \n",
      "...                         ...                                  ...   \n",
      "11692                    14.355                                  6.0   \n",
      "11693                    16.769                                  6.0   \n",
      "11694                       NaN                                  NaN   \n",
      "11695                       NaN                                  NaN   \n",
      "11696                       NaN                                  NaN   \n",
      "\n",
      "       sw_enrichment_data_mean_reaction_time  \\\n",
      "0                                 138.000000   \n",
      "1                                 136.500000   \n",
      "2                                 140.166667   \n",
      "3                                 137.166667   \n",
      "4                                 275.884615   \n",
      "...                                      ...   \n",
      "11692                                    NaN   \n",
      "11693                                    NaN   \n",
      "11694                                    NaN   \n",
      "11695                                    NaN   \n",
      "11696                                    NaN   \n",
      "\n",
      "       sw_enrichment_data_stdev_reaction_time  ...            username  \\\n",
      "0                                    5.259911  ...        john.croteau   \n",
      "1                                   20.734432  ...        john.croteau   \n",
      "2                                   12.863601  ...        john.croteau   \n",
      "3                                   35.755730  ...        john.croteau   \n",
      "4                                   83.334048  ...        john.croteau   \n",
      "...                                       ...  ...                 ...   \n",
      "11692                                     NaN  ...               tanya   \n",
      "11693                                     NaN  ...               tanya   \n",
      "11694                                     NaN  ...               tanya   \n",
      "11695                                     NaN  ...  joseph.hammerstrom   \n",
      "11696                                     NaN  ...  joseph.hammerstrom   \n",
      "\n",
      "       algo_enrichment_data_mean_reaction_time  algo_enrichment_data_accuracy  \\\n",
      "0                                          NaN                            NaN   \n",
      "1                                          NaN                            NaN   \n",
      "2                                          NaN                            NaN   \n",
      "3                                          NaN                            NaN   \n",
      "4                                     0.272526                          0.565   \n",
      "...                                        ...                            ...   \n",
      "11692                                      NaN                            NaN   \n",
      "11693                                      NaN                            NaN   \n",
      "11694                                      NaN                            NaN   \n",
      "11695                                      NaN                            NaN   \n",
      "11696                                      NaN                            NaN   \n",
      "\n",
      "      algo_enrichment_data_stdev_reaction_time  \\\n",
      "0                                          NaN   \n",
      "1                                          NaN   \n",
      "2                                          NaN   \n",
      "3                                          NaN   \n",
      "4                                     0.049682   \n",
      "...                                        ...   \n",
      "11692                                      NaN   \n",
      "11693                                      NaN   \n",
      "11694                                      NaN   \n",
      "11695                                      NaN   \n",
      "11696                                      NaN   \n",
      "\n",
      "      algo_enrichment_data_number_of_trials  \\\n",
      "0                                       NaN   \n",
      "1                                       NaN   \n",
      "2                                       NaN   \n",
      "3                                       NaN   \n",
      "4                                      30.0   \n",
      "...                                     ...   \n",
      "11692                                   NaN   \n",
      "11693                                   NaN   \n",
      "11694                                   NaN   \n",
      "11695                                   NaN   \n",
      "11696                                   NaN   \n",
      "\n",
      "      algo_enrichment_data_number_of_false_starts  \\\n",
      "0                                             NaN   \n",
      "1                                             NaN   \n",
      "2                                             NaN   \n",
      "3                                             NaN   \n",
      "4                                             1.0   \n",
      "...                                           ...   \n",
      "11692                                         NaN   \n",
      "11693                                         NaN   \n",
      "11694                                         NaN   \n",
      "11695                                         NaN   \n",
      "11696                                         NaN   \n",
      "\n",
      "      algo_enrichment_data_number_of_lapses application_id device_id  \\\n",
      "0                                       NaN            NaN       NaN   \n",
      "1                                       NaN            NaN       NaN   \n",
      "2                                       NaN            NaN       NaN   \n",
      "3                                       NaN            NaN       NaN   \n",
      "4                                       6.0            NaN       NaN   \n",
      "...                                     ...            ...       ...   \n",
      "11692                                   NaN            NaN       NaN   \n",
      "11693                                   NaN            NaN       NaN   \n",
      "11694                                   NaN            NaN       NaN   \n",
      "11695                                   NaN            NaN       NaN   \n",
      "11696                                   NaN            NaN       NaN   \n",
      "\n",
      "      device_version  \n",
      "0                NaN  \n",
      "1                NaN  \n",
      "2                NaN  \n",
      "3                NaN  \n",
      "4                NaN  \n",
      "...              ...  \n",
      "11692            NaN  \n",
      "11693            NaN  \n",
      "11694            NaN  \n",
      "11695            NaN  \n",
      "11696            NaN  \n",
      "\n",
      "[11697 rows x 30 columns]\n"
     ]
    }
   ],
   "source": [
    "\n",
    "\n",
    "\n",
    "user_df = get_users(env)\n",
    "user_df = user_df.drop(columns='created_at')\n",
    "pison_users_df = pd.read_csv('pison_users.csv')\n",
    "env = Env.STAGING\n",
    "algo_calculations_df = []\n",
    "\n",
    "### CHANGE TO [None, 'READY', 'AGILITY', or 'FOCUS']\n",
    "test_type = None\n",
    "\n",
    "\n",
    "\n",
    "users_df = get_specific_users(user_df, pison_users_df)\n",
    "\n",
    "\n",
    "big_df = create_test_df(env, users_df, algo_calculations_df, test_type, start_date, end_date)\n"
   ]
  },
  {
   "cell_type": "markdown",
   "id": "a3121bfd-f0c6-476d-9a10-96db9b5343e1",
   "metadata": {},
   "source": [
    "### Incorporates Team DF"
   ]
  },
  {
   "cell_type": "code",
   "execution_count": 59,
   "id": "b820d0d9-cfe2-41ee-9b7e-fbcfb63feb8e",
   "metadata": {},
   "outputs": [],
   "source": [
    "\n",
    "\n",
    "# Load the team DataFrame and rename the 'Team' column\n",
    "team_df = pd.read_csv('pison_users.csv')\n",
    "team_df = team_df[['email', 'Team']]\n",
    "team_df.rename(columns={'Team': 'pison_team'}, inplace=True)\n",
    "team_df['email'] = team_df['email'].astype(str).str.split(',')\n",
    "\n",
    "# Explode the list into separate rows\n",
    "team_df_exploded = team_df.explode('email')\n",
    "\n",
    "# Strip any leading/trailing whitespace from email addresses\n",
    "team_df_exploded['email'] = team_df_exploded['email'].str.strip()\n",
    "\n",
    "# Mapping from email to pison_team\n",
    "email_to_team_map = team_df_exploded.set_index('email')['pison_team'].to_dict()\n",
    "\n",
    "big_df['pison_team'] = big_df['email'].map(email_to_team_map)"
   ]
  },
  {
   "cell_type": "markdown",
   "id": "22d29aa2-b181-4c0e-b085-7c5cd38f734f",
   "metadata": {},
   "source": [
    "### BigQuery"
   ]
  },
  {
   "cell_type": "code",
   "execution_count": 61,
   "id": "e446f10c-25cc-4a09-93ad-40fbb54fdea5",
   "metadata": {},
   "outputs": [
    {
     "name": "stderr",
     "output_type": "stream",
     "text": [
      "100% 1/1 [00:00<00:00, 6168.09it/s]"
     ]
    },
    {
     "name": "stdout",
     "output_type": "stream",
     "text": [
      "Data successfully written to BigQuery!\n"
     ]
    },
    {
     "name": "stderr",
     "output_type": "stream",
     "text": [
      "\n"
     ]
    }
   ],
   "source": [
    "\n",
    "\n",
    "\n",
    "project_id = 'core-aca65d38'\n",
    "dataset_name = 'Big_Tables'\n",
    "\n",
    "focus_table = 'Focus_Table'\n",
    "agility_table = 'Agility_Table'\n",
    "ready_table = 'Ready_Table'\n",
    "super_table = 'Super_Table'\n",
    "\n",
    "\n",
    "\n",
    "CHOOSE_YOUR_DESTINATION_TABLE = super_table   # CHOOSE YOUR TABLE DESTINATION HERE\n",
    "\n",
    "destination_table = f'{project_id}.{dataset_name}.{CHOOSE_YOUR_DESTINATION_TABLE}'\n",
    "rel_cred_path = \"key.json\"  # Adjust as per your directory structure\n",
    "cred_path = os.path.abspath(rel_cred_path)\n",
    "os.environ[\"GOOGLE_APPLICATION_CREDENTIALS\"] = cred_path\n",
    "credentials = service_account.Credentials.from_service_account_file(cred_path)\n",
    "\n",
    "try:\n",
    "    to_gbq(\n",
    "        big_df, # CHANGE TO YOUR DF THAT YOU WANT TO PUT\n",
    "        destination_table,\n",
    "        project_id=project_id,\n",
    "        if_exists='replace',\n",
    "        credentials=credentials\n",
    "    )\n",
    "    print(\"Data successfully written to BigQuery!\")\n",
    "except Exception as e:\n",
    "    print(f\"Error writing to BigQuery: {str(e)}\")\n",
    "\n"
   ]
  }
 ],
 "metadata": {
  "kernelspec": {
   "display_name": "Python 3 (ipykernel)",
   "language": "python",
   "name": "python3"
  },
  "language_info": {
   "codemirror_mode": {
    "name": "ipython",
    "version": 3
   },
   "file_extension": ".py",
   "mimetype": "text/x-python",
   "name": "python",
   "nbconvert_exporter": "python",
   "pygments_lexer": "ipython3",
   "version": "3.8.10"
  }
 },
 "nbformat": 4,
 "nbformat_minor": 5
}
