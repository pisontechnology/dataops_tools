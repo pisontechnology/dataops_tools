{
 "cells": [
  {
   "cell_type": "code",
   "execution_count": null,
   "id": "2033829e-53bc-43d3-90b0-9cb729294f43",
   "metadata": {},
   "outputs": [],
   "source": [
    "from table_import import *"
   ]
  },
  {
   "cell_type": "code",
   "execution_count": null,
   "id": "c9d22871-e118-4b49-b087-9a364fe06416",
   "metadata": {},
   "outputs": [],
   "source": [
    "SERVICE_ACCOUNT = \"dashboard-service-account@pison-staging.iam.gserviceaccount.com\"\n",
    "local_audience = \"pison-staging\"\n",
    "result = subprocess.run(\n",
    "    [f'gcloud auth print-identity-token --impersonate-service-account=\"{SERVICE_ACCOUNT}\" --audiences=\"{local_audience}\"'],\n",
    "    stdout=subprocess.PIPE,\n",
    "    shell=True,\n",
    ")\n",
    "token = result.stdout.decode(\"utf-8\")[:-1]  # remove trailing newline\n",
    "\n",
    "# 256 MB\n",
    "POSTGRES_JSONB_MAX = 1024 * 1024 * 256\n",
    "PAGE_LIMIT = 1\n",
    "\n",
    "# Set max to JSONB max, plus some margin\n",
    "MAX_MESSAGE_LENGTH = PAGE_LIMIT * (POSTGRES_JSONB_MAX + 256)\n",
    "channel = grpc.secure_channel(\"staging.cloud.pison.io\", grpc.ssl_channel_credentials(),\n",
    "                              options=[\n",
    "                                  ('grpc.max_send_message_length', MAX_MESSAGE_LENGTH),\n",
    "                                  ('grpc.max_receive_message_length', MAX_MESSAGE_LENGTH),\n",
    "                              ],\n",
    "                              )\n",
    "stub = session_pb2_grpc.SessionServiceStub(channel)\n",
    "\n",
    "response = stub.ReadSession(\n",
    "    ReadSessionRequest(\n",
    "    ),\n",
    "    metadata=[\n",
    "        (\"authorization\", f\"Bearer {token}\")\n",
    "    ]\n",
    ")\n",
    "response_dict = MessageToDict(response)\n",
    "df = pd.json_normalize(response_dict['sessions'])\n",
    "#display(df)"
   ]
  },
  {
   "cell_type": "code",
   "execution_count": null,
   "id": "d9afb4c0-ae8c-4940-8bbc-2941a01466ae",
   "metadata": {},
   "outputs": [],
   "source": [
    "env = Env.STAGING"
   ]
  },
  {
   "cell_type": "code",
   "execution_count": null,
   "id": "9976b219-f752-4620-b784-a9f28133ba83",
   "metadata": {},
   "outputs": [],
   "source": [
    "start_date = dt.datetime(2024, 7, 1, 0, 0, 0)\n",
    "end_date = dt.datetime(2024, 12, 31, 0, 0, 0)"
   ]
  },
  {
   "cell_type": "code",
   "execution_count": null,
   "id": "9a2df13d-5571-420b-9416-4328a4199420",
   "metadata": {},
   "outputs": [],
   "source": [
    "agility_config = {'detection_window': (0.07, 0.750), 'countdown': 5, 'proportion_correct_balanced': True}\n",
    "readiness_config = {'detection_window': (0.08, 1.0), 'countdown': 5, 'retained_reaction_time_count': (1,5), 'minimum_reaction_time_count': 2}\n",
    "focus_config= {'detection_window': (0.08, 1.0), 'countdown': 5, 'retained_reaction_time_count': (0,90), 'minimum_reaction_time_count': 2, 'lapse_multiplier':1}"
   ]
  },
  {
   "cell_type": "code",
   "execution_count": null,
   "id": "be83336f-28de-4c87-98cd-3a40c365f1a1",
   "metadata": {},
   "outputs": [],
   "source": [
    "user_df = get_users(env)\n",
    "user_df = user_df.drop(columns='created_at')\n",
    "pison_users_df = pd.read_csv('pison_users.csv')\n",
    "users_df = get_specific_users(user_df, pison_users_df)"
   ]
  },
  {
   "cell_type": "code",
   "execution_count": null,
   "id": "d828984e-a5c6-40a1-8f84-b3b1b11715aa",
   "metadata": {},
   "outputs": [],
   "source": [
    "test_df = get_reaction_tests(env, start_date, end_date)\n",
    "test_df = pd.merge(test_df, users_df, left_on='user_id', right_on='uid', how='inner')"
   ]
  },
  {
   "cell_type": "code",
   "execution_count": null,
   "id": "583ab634-cf80-48c0-b7ad-d56c68b57fac",
   "metadata": {},
   "outputs": [],
   "source": [
    "metadata_df = get_all_metadata(env)\n",
    "metadata_df = metadata_df[['session_id','user_id','application_id','device_id','device_version','protocol_name']]"
   ]
  },
  {
   "cell_type": "code",
   "execution_count": null,
   "id": "e39fe85a-d18e-4905-988b-d4d571d5f640",
   "metadata": {},
   "outputs": [],
   "source": [
    "the_final_df = pd.merge(test_df, metadata_df, left_on='session_id', right_on ='session_id', how='left')\n",
    "the_final_df.columns = the_final_df.columns.str.replace('.', '_')"
   ]
  },
  {
   "cell_type": "code",
   "execution_count": null,
   "id": "7fc40d3a-ece7-4dcc-aca1-6f5d096cd765",
   "metadata": {},
   "outputs": [],
   "source": [
    "pt1_2024_df = pd.read_csv('2024_pt1.csv')\n",
    "the_final_df = pd.concat([pt1_2024_df, the_final_df], axis=0, ignore_index=True)"
   ]
  },
  {
   "cell_type": "code",
   "execution_count": null,
   "id": "31da3091-5d59-407a-addf-93199b9fdd04",
   "metadata": {},
   "outputs": [],
   "source": [
    "col_to_drop =['uid_y','uid_x','user_id_y','enrichment_data_trial_results','onset_moments','custom_attributes_subscription','custom_attributes_claims','is_baseline','model_identifier','deletion_reason', 'is_deleted', 'sharing_mode','enrichment_data_number_of_hits', 'enrichment_data_trial_results_is_hit', 'enrichment_data_trial_results_onset_moment', 'enrichment_data_trial_results_reaction_time', 'enrichment_data_trial_results_is_false_start', 'enrichment_data_trial_results_is_lapse', 'plan_id', 'plan_user_id', 'demographics_date_of_birth', 'demographics_gender', 'demographics_height', 'demographics_weight']\n",
    "the_final_df = the_final_df.drop(columns=[col for col in col_to_drop if col in the_final_df.columns])\n",
    "\n",
    "the_final_df = the_final_df.rename(columns={'user_id_x':'user_id'})\n",
    "#the_final_df['plan_stimuli'] = the_final_df['plan_stimuli'].notnull() & the_final_df['plan_stimuli'].notna()\n",
    "\n",
    "columns_to_convert = ['enrichment_data_mean_reaction_time','enrichment_data_accuracy','score']\n",
    "    \n",
    "for column in columns_to_convert:\n",
    "    the_final_df[column] = pd.to_numeric(the_final_df[column], errors='coerce')\n",
    "\n",
    "the_final_df.rename(columns={\n",
    "    'enrichment_data_number_of_trials': 'sw_enrichment_data_number_of_trials',\n",
    "    'enrichment_data_number_of_false_starts': 'sw_enrichment_data_number_of_false_starts',\n",
    "    'enrichment_data_number_of_lapses': 'sw_enrichment_data_number_of_lapses',\n",
    "    'enrichment_data_mean_reaction_time': 'sw_enrichment_data_mean_reaction_time',\n",
    "    'enrichment_data_stdev_reaction_time': 'sw_enrichment_data_stdev_reaction_time',\n",
    "    'enrichment_data_accuracy': 'sw_enrichment_data_accuracy',\n",
    "    'plan_stimuli': 'plan_exists'\n",
    "    }, inplace=True)\n",
    "\n",
    "the_final_df['is_failed'] = the_final_df['is_failed'].fillna(False).astype(bool)\n",
    "the_final_df['is_failed'] = pd.to_numeric(the_final_df['is_failed'], errors='coerce').astype('boolean')\n",
    "\n",
    "the_final_df['plan_exists'] = the_final_df['plan_exists'].fillna(False).astype(bool)\n",
    "the_final_df['plan_exists'] = pd.to_numeric(the_final_df['plan_exists'], errors='coerce').astype('boolean')\n",
    "\n",
    "the_final_df\n",
    "the_final_df['created_at'] = pd.to_datetime(the_final_df['created_at'], errors='coerce')"
   ]
  },
  {
   "cell_type": "code",
   "execution_count": null,
   "id": "64238712-2af8-4ad3-8413-ecd8dd8119b2",
   "metadata": {},
   "outputs": [],
   "source": [
    "import pandas as pd\n",
    "\n",
    "# Load the team DataFrame and rename the 'Team' column\n",
    "team_df = pd.read_csv('pison_users.csv')\n",
    "team_df = team_df[['email', 'Team']]\n",
    "team_df.rename(columns={'Team': 'pison_team'}, inplace=True)\n",
    "team_df['email'] = team_df['email'].astype(str).str.split(',')\n",
    "\n",
    "# Explode the list into separate rows\n",
    "team_df_exploded = team_df.explode('email')\n",
    "\n",
    "# Strip any leading/trailing whitespace from email addresses\n",
    "team_df_exploded['email'] = team_df_exploded['email'].str.strip()\n",
    "\n",
    "# Mapping from email to pison_team\n",
    "email_to_team_map = team_df_exploded.set_index('email')['pison_team'].to_dict()\n",
    "\n",
    "the_final_df['pison_team'] = the_final_df['email'].map(email_to_team_map)"
   ]
  },
  {
   "cell_type": "code",
   "execution_count": null,
   "id": "24e95fc2-7096-490c-b8ac-a3d62114b5b8",
   "metadata": {},
   "outputs": [],
   "source": [
    "the_final_df"
   ]
  },
  {
   "cell_type": "code",
   "execution_count": null,
   "id": "230b4f1e-5c49-4a35-bdad-17dc8da142b8",
   "metadata": {},
   "outputs": [],
   "source": [
    "import os\n",
    "from google.oauth2 import service_account\n",
    "from pandas_gbq import to_gbq, read_gbq\n",
    "import pandas as pd\n",
    "\n",
    "\n",
    "project_id = 'core-aca65d38'\n",
    "dataset_name = 'Big_Tables'\n",
    "\n",
    "focus_table = 'Focus_Table'\n",
    "agility_table = 'Agility_Table'\n",
    "ready_table = 'Ready_Table'\n",
    "super_table = 'Super_Table'\n",
    "\n",
    "\n",
    "\n",
    "CHOOSE_YOUR_DESTINATION_TABLE = super_table   # CHOOSE YOUR TABLE DESTINATION HERE\n",
    "\n",
    "destination_table = f'{project_id}.{dataset_name}.{CHOOSE_YOUR_DESTINATION_TABLE}'\n",
    "rel_cred_path = \"key.json\"  # Adjust as per your directory structure\n",
    "cred_path = os.path.abspath(rel_cred_path)\n",
    "os.environ[\"GOOGLE_APPLICATION_CREDENTIALS\"] = cred_path\n",
    "credentials = service_account.Credentials.from_service_account_file(cred_path)\n",
    "\n",
    "try:\n",
    "    to_gbq(\n",
    "        the_final_df, # CHANGE TO YOUR DF THAT YOU WANT TO PUT\n",
    "        destination_table,\n",
    "        project_id=project_id,\n",
    "        if_exists='replace',\n",
    "        credentials=credentials\n",
    "    )\n",
    "    print(\"Data successfully written to Bigml_util.query!\")\n",
    "except Exception as e:\n",
    "    print(f\"Error writing to Bigml_util.query: {str(e)}\")\n",
    "\n"
   ]
  },
  {
   "cell_type": "code",
   "execution_count": null,
   "id": "28f75ef4-f78e-4b4b-8dd4-9e146bb7ebcc",
   "metadata": {},
   "outputs": [],
   "source": []
  }
 ],
 "metadata": {
  "kernelspec": {
   "display_name": "Python 3 (ipykernel)",
   "language": "python",
   "name": "python3"
  },
  "language_info": {
   "codemirror_mode": {
    "name": "ipython",
    "version": 3
   },
   "file_extension": ".py",
   "mimetype": "text/x-python",
   "name": "python",
   "nbconvert_exporter": "python",
   "pygments_lexer": "ipython3",
   "version": "3.10.12"
  }
 },
 "nbformat": 4,
 "nbformat_minor": 5
}
